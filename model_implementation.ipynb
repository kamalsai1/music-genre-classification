{
  "cells": [
    {
      "cell_type": "code",
      "execution_count": null,
      "metadata": {
        "id": "siD-suSjidtR"
      },
      "outputs": [],
      "source": [
        "from fastai.vision.all import *\n",
        "from fastai.text.all import *\n",
        "from fastai.collab import *\n",
        "from fastai.tabular.all import *"
      ]
    },
    {
      "cell_type": "code",
      "execution_count": null,
      "metadata": {
        "id": "dpscv2hVbuHz"
      },
      "outputs": [],
      "source": [
        "from fastai.callback.all import *"
      ]
    },
    {
      "cell_type": "code",
      "execution_count": null,
      "metadata": {
        "colab": {
          "base_uri": "https://localhost:8080/"
        },
        "id": "ghWdVFcLAPTa",
        "outputId": "e90295e1-3e8e-43cd-ad0a-72f13816ec0d"
      },
      "outputs": [
        {
          "name": "stdout",
          "output_type": "stream",
          "text": [
            "Mounted at /content/drive\n"
          ]
        }
      ],
      "source": [
        "from google.colab import drive\n",
        "drive.mount('/content/drive')"
      ]
    },
    {
      "cell_type": "code",
      "execution_count": null,
      "metadata": {
        "id": "u27IGVwIIVNG"
      },
      "outputs": [],
      "source": [
        "from fastai.vision import *\n",
        "import os\n",
        "import matplotlib.pyplot as plt\n",
        "import librosa\n",
        "import librosa.display\n",
        "import IPython.display as ipd\n",
        "from pathlib import Path"
      ]
    },
    {
      "cell_type": "code",
      "execution_count": null,
      "metadata": {
        "id": "UaLoQAS4Id_g"
      },
      "outputs": [],
      "source": [
        "d_path=Path('/content/drive/My Drive/DL_project_music/Data/MELspectrograms')"
      ]
    },
    {
      "cell_type": "code",
      "execution_count": null,
      "metadata": {
        "id": "E1CRiYJsqdU1"
      },
      "outputs": [],
      "source": [
        "\"\"\"Functions for doing mixed-example data augmentation.\"\"\"\n",
        "\n",
        "import numpy as np\n",
        "import tensorflow as tf\n",
        "\n",
        "def mixup(images, labels):\n",
        "  mix_coeff = tf.random_uniform([])\n",
        "  image = mix_coeff * images[0] + (1 - mix_coeff) * images[1]\n",
        "  label = mix_coeff * labels[0] + (1 - mix_coeff) * labels[1]\n",
        "  return (image, label)\n",
        "\n",
        "\n",
        "def vert_concat(images, labels):\n",
        "  (_, H, W, C) = images.get_shape().as_list()\n",
        "  dim_H = tf.random_uniform([], 0, H, dtype=tf.int32)\n",
        "  lambda_H = tf.cast(dim_H, tf.float32) / tf.constant(H, dtype=tf.float32)\n",
        "  image = tf.concat([images[0][:dim_H, :, :],\n",
        "                     images[1][dim_H:, :, :]], 0)\n",
        "  label = lambda_H * labels[0] + (1 - lambda_H) * labels[1]\n",
        "  return (image, label)\n",
        "\n",
        "\n",
        "def horiz_concat(images, labels):\n",
        "  (_, H, W, C) = images.get_shape().as_list()\n",
        "  dim_W = tf.random_uniform([], 0, W, dtype=tf.int32)\n",
        "  lambda_W = tf.cast(dim_W, tf.float32) / tf.constant(W, dtype=tf.float32)\n",
        "  image = tf.concat([images[0][:, :dim_W, :],\n",
        "                     images[1][:, dim_W:, :]], 1)\n",
        "  label = lambda_W * labels[0] + (1 - lambda_W) * labels[1]\n",
        "  return (image, label)\n",
        "\n",
        "def vh_mixup(images, labels):\n",
        "    image1, label1 = vert_concat(images, labels)\n",
        "    image2, label2 = horiz_concat(images, labels)\n",
        "\n",
        "    # Create augmented samples\n",
        "    aug_images = mixup(tf.stack([image1, image2]), tf.stack([label1, label2]))[0]\n",
        "    aug_labels = mixup(tf.stack([image1, image2]), tf.stack([label1, label2]))[1]\n",
        "\n",
        "    # Concatenate augmented samples with original samples\n",
        "    images = tf.concat([images[0], aug_images], axis=0)\n",
        "    labels = tf.concat([labels[0], aug_labels], axis=0)\n",
        "\n",
        "    return (images, labels)\n"
      ]
    },
    {
      "cell_type": "code",
      "execution_count": null,
      "metadata": {
        "id": "sC1dLyDxIh7W"
      },
      "outputs": [],
      "source": [
        "from fastai.vision import *\n",
        "from fastai.vision.data import ImageDataLoaders,imagenet_stats\n",
        "from fastai.vision.augment import aug_transforms\n",
        "\n",
        "batch_tfms = [IntToFloatTensor(), Normalize.from_stats(*imagenet_stats), *aug_transforms(), vh_mixup]\n",
        "data = ImageDataLoaders.from_folder(d_path, train='.', valid_pct=0.2, ds_tfms=batch_tfms, size=224, num_workers=4, batch_size=4)\n",
        "# data = ImageDataLoaders.from_folder(d_path, train='.', valid_pct=0.2, size=224, num_workers=4, batch_size=4)\n"
      ]
    },
    {
      "cell_type": "code",
      "execution_count": null,
      "metadata": {
        "colab": {
          "base_uri": "https://localhost:8080/"
        },
        "id": "lwK9wFf9IkMe",
        "outputId": "58df7196-f149-4180-8ee7-38d5e3e8b7f7"
      },
      "outputs": [
        {
          "data": {
            "text/plain": [
              "<fastai.data.core.DataLoaders at 0x7f8ab9cddfd0>"
            ]
          },
          "execution_count": 8,
          "metadata": {},
          "output_type": "execute_result"
        }
      ],
      "source": [
        "data"
      ]
    },
    {
      "cell_type": "code",
      "execution_count": null,
      "metadata": {
        "colab": {
          "base_uri": "https://localhost:8080/"
        },
        "id": "I_h4D5gGfHzF",
        "outputId": "d49d811a-3602-4b04-9673-c8156c64e0c7"
      },
      "outputs": [
        {
          "name": "stdout",
          "output_type": "stream",
          "text": [
            "{'loaders': [<fastai.data.core.TfmdDL object at 0x7f8bec779850>, <fastai.data.core.TfmdDL object at 0x7f8ab9cf3490>], 'path': Path('/content/drive/My Drive/DL_project_music/Data/MELspectrograms'), '_device': device(type='cuda', index=0)}\n"
          ]
        }
      ],
      "source": [
        "print(data.__dict__)\n"
      ]
    },
    {
      "cell_type": "code",
      "execution_count": null,
      "metadata": {
        "colab": {
          "base_uri": "https://localhost:8080/"
        },
        "id": "q75iiBChmNfZ",
        "outputId": "5528f8ee-b5e8-421d-83d0-af6a91e82cc3"
      },
      "outputs": [
        {
          "data": {
            "text/plain": [
              "<fastai.data.core.TfmdDL at 0x7f8bec779850>"
            ]
          },
          "execution_count": 10,
          "metadata": {},
          "output_type": "execute_result"
        }
      ],
      "source": [
        "data.train"
      ]
    },
    {
      "cell_type": "code",
      "execution_count": null,
      "metadata": {
        "colab": {
          "base_uri": "https://localhost:8080/"
        },
        "id": "2xohDnwpIk0I",
        "outputId": "8f0081ef-9e7c-463a-9a45-763a99bd7456"
      },
      "outputs": [
        {
          "name": "stdout",
          "output_type": "stream",
          "text": [
            "200\n",
            "50\n"
          ]
        }
      ],
      "source": [
        "print(len(data.train_ds))\n",
        "print(len(data.valid_ds))"
      ]
    },
    {
      "cell_type": "code",
      "execution_count": null,
      "metadata": {
        "colab": {
          "base_uri": "https://localhost:8080/",
          "height": 386
        },
        "id": "_6gc7WhYVJd4",
        "outputId": "83f3c1ae-f0c3-4151-ad4a-0ce4cf88b5d6"
      },
      "outputs": [
        {
          "data": {
            "image/png": "[encoded data removed]",
            "text/plain": [
              "<Figure size 600x600 with 4 Axes>"
            ]
          },
          "metadata": {},
          "output_type": "display_data"
        }
      ],
      "source": [
        "data.train.show_batch()\n"
      ]
    },
    {
      "cell_type": "code",
      "execution_count": null,
      "metadata": {
        "id": "DcyeKhKin1l-"
      },
      "outputs": [],
      "source": [
        "import torch\n",
        "device = torch.device('cuda' if torch.cuda.is_available() else 'cpu')\n"
      ]
    },
    {
      "cell_type": "markdown",
      "metadata": {
        "id": "sT3EOpwYJpz6"
      },
      "source": [
        "##network"
      ]
    },
    {
      "cell_type": "code",
      "execution_count": null,
      "metadata": {
        "id": "nPkeidspIsBi"
      },
      "outputs": [],
      "source": [
        "learn=cnn_learner(data,models.resnet18,metrics=error_rate)"
      ]
    },
    {
      "cell_type": "code",
      "execution_count": null,
      "metadata": {
        "colab": {
          "base_uri": "https://localhost:8080/"
        },
        "id": "BQIpC2TTIvoW",
        "outputId": "3846afbe-af6b-47f2-a505-6443f22d1d7c"
      },
      "outputs": [
        {
          "data": {
            "text/plain": [
              "Sequential(\n",
              "  (0): Sequential(\n",
              "    (0): Conv2d(3, 64, kernel_size=(7, 7), stride=(2, 2), padding=(3, 3), bias=False)\n",
              "    (1): BatchNorm2d(64, eps=1e-05, momentum=0.1, affine=True, track_running_stats=True)\n",
              "    (2): ReLU(inplace=True)\n",
              "    (3): MaxPool2d(kernel_size=3, stride=2, padding=1, dilation=1, ceil_mode=False)\n",
              "    (4): Sequential(\n",
              "      (0): BasicBlock(\n",
              "        (conv1): Conv2d(64, 64, kernel_size=(3, 3), stride=(1, 1), padding=(1, 1), bias=False)\n",
              "        (bn1): BatchNorm2d(64, eps=1e-05, momentum=0.1, affine=True, track_running_stats=True)\n",
              "        (relu): ReLU(inplace=True)\n",
              "        (conv2): Conv2d(64, 64, kernel_size=(3, 3), stride=(1, 1), padding=(1, 1), bias=False)\n",
              "        (bn2): BatchNorm2d(64, eps=1e-05, momentum=0.1, affine=True, track_running_stats=True)\n",
              "      )\n",
              "      (1): BasicBlock(\n",
              "        (conv1): Conv2d(64, 64, kernel_size=(3, 3), stride=(1, 1), padding=(1, 1), bias=False)\n",
              "        (bn1): BatchNorm2d(64, eps=1e-05, momentum=0.1, affine=True, track_running_stats=True)\n",
              "        (relu): ReLU(inplace=True)\n",
              "        (conv2): Conv2d(64, 64, kernel_size=(3, 3), stride=(1, 1), padding=(1, 1), bias=False)\n",
              "        (bn2): BatchNorm2d(64, eps=1e-05, momentum=0.1, affine=True, track_running_stats=True)\n",
              "      )\n",
              "    )\n",
              "    (5): Sequential(\n",
              "      (0): BasicBlock(\n",
              "        (conv1): Conv2d(64, 128, kernel_size=(3, 3), stride=(2, 2), padding=(1, 1), bias=False)\n",
              "        (bn1): BatchNorm2d(128, eps=1e-05, momentum=0.1, affine=True, track_running_stats=True)\n",
              "        (relu): ReLU(inplace=True)\n",
              "        (conv2): Conv2d(128, 128, kernel_size=(3, 3), stride=(1, 1), padding=(1, 1), bias=False)\n",
              "        (bn2): BatchNorm2d(128, eps=1e-05, momentum=0.1, affine=True, track_running_stats=True)\n",
              "        (downsample): Sequential(\n",
              "          (0): Conv2d(64, 128, kernel_size=(1, 1), stride=(2, 2), bias=False)\n",
              "          (1): BatchNorm2d(128, eps=1e-05, momentum=0.1, affine=True, track_running_stats=True)\n",
              "        )\n",
              "      )\n",
              "      (1): BasicBlock(\n",
              "        (conv1): Conv2d(128, 128, kernel_size=(3, 3), stride=(1, 1), padding=(1, 1), bias=False)\n",
              "        (bn1): BatchNorm2d(128, eps=1e-05, momentum=0.1, affine=True, track_running_stats=True)\n",
              "        (relu): ReLU(inplace=True)\n",
              "        (conv2): Conv2d(128, 128, kernel_size=(3, 3), stride=(1, 1), padding=(1, 1), bias=False)\n",
              "        (bn2): BatchNorm2d(128, eps=1e-05, momentum=0.1, affine=True, track_running_stats=True)\n",
              "      )\n",
              "    )\n",
              "    (6): Sequential(\n",
              "      (0): BasicBlock(\n",
              "        (conv1): Conv2d(128, 256, kernel_size=(3, 3), stride=(2, 2), padding=(1, 1), bias=False)\n",
              "        (bn1): BatchNorm2d(256, eps=1e-05, momentum=0.1, affine=True, track_running_stats=True)\n",
              "        (relu): ReLU(inplace=True)\n",
              "        (conv2): Conv2d(256, 256, kernel_size=(3, 3), stride=(1, 1), padding=(1, 1), bias=False)\n",
              "        (bn2): BatchNorm2d(256, eps=1e-05, momentum=0.1, affine=True, track_running_stats=True)\n",
              "        (downsample): Sequential(\n",
              "          (0): Conv2d(128, 256, kernel_size=(1, 1), stride=(2, 2), bias=False)\n",
              "          (1): BatchNorm2d(256, eps=1e-05, momentum=0.1, affine=True, track_running_stats=True)\n",
              "        )\n",
              "      )\n",
              "      (1): BasicBlock(\n",
              "        (conv1): Conv2d(256, 256, kernel_size=(3, 3), stride=(1, 1), padding=(1, 1), bias=False)\n",
              "        (bn1): BatchNorm2d(256, eps=1e-05, momentum=0.1, affine=True, track_running_stats=True)\n",
              "        (relu): ReLU(inplace=True)\n",
              "        (conv2): Conv2d(256, 256, kernel_size=(3, 3), stride=(1, 1), padding=(1, 1), bias=False)\n",
              "        (bn2): BatchNorm2d(256, eps=1e-05, momentum=0.1, affine=True, track_running_stats=True)\n",
              "      )\n",
              "    )\n",
              "    (7): Sequential(\n",
              "      (0): BasicBlock(\n",
              "        (conv1): Conv2d(256, 512, kernel_size=(3, 3), stride=(2, 2), padding=(1, 1), bias=False)\n",
              "        (bn1): BatchNorm2d(512, eps=1e-05, momentum=0.1, affine=True, track_running_stats=True)\n",
              "        (relu): ReLU(inplace=True)\n",
              "        (conv2): Conv2d(512, 512, kernel_size=(3, 3), stride=(1, 1), padding=(1, 1), bias=False)\n",
              "        (bn2): BatchNorm2d(512, eps=1e-05, momentum=0.1, affine=True, track_running_stats=True)\n",
              "        (downsample): Sequential(\n",
              "          (0): Conv2d(256, 512, kernel_size=(1, 1), stride=(2, 2), bias=False)\n",
              "          (1): BatchNorm2d(512, eps=1e-05, momentum=0.1, affine=True, track_running_stats=True)\n",
              "        )\n",
              "      )\n",
              "      (1): BasicBlock(\n",
              "        (conv1): Conv2d(512, 512, kernel_size=(3, 3), stride=(1, 1), padding=(1, 1), bias=False)\n",
              "        (bn1): BatchNorm2d(512, eps=1e-05, momentum=0.1, affine=True, track_running_stats=True)\n",
              "        (relu): ReLU(inplace=True)\n",
              "        (conv2): Conv2d(512, 512, kernel_size=(3, 3), stride=(1, 1), padding=(1, 1), bias=False)\n",
              "        (bn2): BatchNorm2d(512, eps=1e-05, momentum=0.1, affine=True, track_running_stats=True)\n",
              "      )\n",
              "    )\n",
              "  )\n",
              "  (1): Sequential(\n",
              "    (0): AdaptiveConcatPool2d(\n",
              "      (ap): AdaptiveAvgPool2d(output_size=1)\n",
              "      (mp): AdaptiveMaxPool2d(output_size=1)\n",
              "    )\n",
              "    (1): fastai.layers.Flatten(full=False)\n",
              "    (2): BatchNorm1d(1024, eps=1e-05, momentum=0.1, affine=True, track_running_stats=True)\n",
              "    (3): Dropout(p=0.25, inplace=False)\n",
              "    (4): Linear(in_features=1024, out_features=512, bias=False)\n",
              "    (5): ReLU(inplace=True)\n",
              "    (6): BatchNorm1d(512, eps=1e-05, momentum=0.1, affine=True, track_running_stats=True)\n",
              "    (7): Dropout(p=0.5, inplace=False)\n",
              "    (8): Linear(in_features=512, out_features=10, bias=False)\n",
              "  )\n",
              ")"
            ]
          },
          "execution_count": 43,
          "metadata": {},
          "output_type": "execute_result"
        }
      ],
      "source": [
        "learn.model"
      ]
    },
    {
      "cell_type": "code",
      "execution_count": null,
      "metadata": {
        "colab": {
          "base_uri": "https://localhost:8080/"
        },
        "id": "Rk6-g9MBoBvI",
        "outputId": "bc45096e-43c6-4e32-e105-b075c723d97c"
      },
      "outputs": [
        {
          "data": {
            "text/plain": [
              "Sequential(\n",
              "  (0): Sequential(\n",
              "    (0): Conv2d(3, 64, kernel_size=(7, 7), stride=(2, 2), padding=(3, 3), bias=False)\n",
              "    (1): BatchNorm2d(64, eps=1e-05, momentum=0.1, affine=True, track_running_stats=True)\n",
              "    (2): ReLU(inplace=True)\n",
              "    (3): MaxPool2d(kernel_size=3, stride=2, padding=1, dilation=1, ceil_mode=False)\n",
              "    (4): Sequential(\n",
              "      (0): BasicBlock(\n",
              "        (conv1): Conv2d(64, 64, kernel_size=(3, 3), stride=(1, 1), padding=(1, 1), bias=False)\n",
              "        (bn1): BatchNorm2d(64, eps=1e-05, momentum=0.1, affine=True, track_running_stats=True)\n",
              "        (relu): ReLU(inplace=True)\n",
              "        (conv2): Conv2d(64, 64, kernel_size=(3, 3), stride=(1, 1), padding=(1, 1), bias=False)\n",
              "        (bn2): BatchNorm2d(64, eps=1e-05, momentum=0.1, affine=True, track_running_stats=True)\n",
              "      )\n",
              "      (1): BasicBlock(\n",
              "        (conv1): Conv2d(64, 64, kernel_size=(3, 3), stride=(1, 1), padding=(1, 1), bias=False)\n",
              "        (bn1): BatchNorm2d(64, eps=1e-05, momentum=0.1, affine=True, track_running_stats=True)\n",
              "        (relu): ReLU(inplace=True)\n",
              "        (conv2): Conv2d(64, 64, kernel_size=(3, 3), stride=(1, 1), padding=(1, 1), bias=False)\n",
              "        (bn2): BatchNorm2d(64, eps=1e-05, momentum=0.1, affine=True, track_running_stats=True)\n",
              "      )\n",
              "    )\n",
              "    (5): Sequential(\n",
              "      (0): BasicBlock(\n",
              "        (conv1): Conv2d(64, 128, kernel_size=(3, 3), stride=(2, 2), padding=(1, 1), bias=False)\n",
              "        (bn1): BatchNorm2d(128, eps=1e-05, momentum=0.1, affine=True, track_running_stats=True)\n",
              "        (relu): ReLU(inplace=True)\n",
              "        (conv2): Conv2d(128, 128, kernel_size=(3, 3), stride=(1, 1), padding=(1, 1), bias=False)\n",
              "        (bn2): BatchNorm2d(128, eps=1e-05, momentum=0.1, affine=True, track_running_stats=True)\n",
              "        (downsample): Sequential(\n",
              "          (0): Conv2d(64, 128, kernel_size=(1, 1), stride=(2, 2), bias=False)\n",
              "          (1): BatchNorm2d(128, eps=1e-05, momentum=0.1, affine=True, track_running_stats=True)\n",
              "        )\n",
              "      )\n",
              "      (1): BasicBlock(\n",
              "        (conv1): Conv2d(128, 128, kernel_size=(3, 3), stride=(1, 1), padding=(1, 1), bias=False)\n",
              "        (bn1): BatchNorm2d(128, eps=1e-05, momentum=0.1, affine=True, track_running_stats=True)\n",
              "        (relu): ReLU(inplace=True)\n",
              "        (conv2): Conv2d(128, 128, kernel_size=(3, 3), stride=(1, 1), padding=(1, 1), bias=False)\n",
              "        (bn2): BatchNorm2d(128, eps=1e-05, momentum=0.1, affine=True, track_running_stats=True)\n",
              "      )\n",
              "    )\n",
              "    (6): Sequential(\n",
              "      (0): BasicBlock(\n",
              "        (conv1): Conv2d(128, 256, kernel_size=(3, 3), stride=(2, 2), padding=(1, 1), bias=False)\n",
              "        (bn1): BatchNorm2d(256, eps=1e-05, momentum=0.1, affine=True, track_running_stats=True)\n",
              "        (relu): ReLU(inplace=True)\n",
              "        (conv2): Conv2d(256, 256, kernel_size=(3, 3), stride=(1, 1), padding=(1, 1), bias=False)\n",
              "        (bn2): BatchNorm2d(256, eps=1e-05, momentum=0.1, affine=True, track_running_stats=True)\n",
              "        (downsample): Sequential(\n",
              "          (0): Conv2d(128, 256, kernel_size=(1, 1), stride=(2, 2), bias=False)\n",
              "          (1): BatchNorm2d(256, eps=1e-05, momentum=0.1, affine=True, track_running_stats=True)\n",
              "        )\n",
              "      )\n",
              "      (1): BasicBlock(\n",
              "        (conv1): Conv2d(256, 256, kernel_size=(3, 3), stride=(1, 1), padding=(1, 1), bias=False)\n",
              "        (bn1): BatchNorm2d(256, eps=1e-05, momentum=0.1, affine=True, track_running_stats=True)\n",
              "        (relu): ReLU(inplace=True)\n",
              "        (conv2): Conv2d(256, 256, kernel_size=(3, 3), stride=(1, 1), padding=(1, 1), bias=False)\n",
              "        (bn2): BatchNorm2d(256, eps=1e-05, momentum=0.1, affine=True, track_running_stats=True)\n",
              "      )\n",
              "    )\n",
              "    (7): Sequential(\n",
              "      (0): BasicBlock(\n",
              "        (conv1): Conv2d(256, 512, kernel_size=(3, 3), stride=(2, 2), padding=(1, 1), bias=False)\n",
              "        (bn1): BatchNorm2d(512, eps=1e-05, momentum=0.1, affine=True, track_running_stats=True)\n",
              "        (relu): ReLU(inplace=True)\n",
              "        (conv2): Conv2d(512, 512, kernel_size=(3, 3), stride=(1, 1), padding=(1, 1), bias=False)\n",
              "        (bn2): BatchNorm2d(512, eps=1e-05, momentum=0.1, affine=True, track_running_stats=True)\n",
              "        (downsample): Sequential(\n",
              "          (0): Conv2d(256, 512, kernel_size=(1, 1), stride=(2, 2), bias=False)\n",
              "          (1): BatchNorm2d(512, eps=1e-05, momentum=0.1, affine=True, track_running_stats=True)\n",
              "        )\n",
              "      )\n",
              "      (1): BasicBlock(\n",
              "        (conv1): Conv2d(512, 512, kernel_size=(3, 3), stride=(1, 1), padding=(1, 1), bias=False)\n",
              "        (bn1): BatchNorm2d(512, eps=1e-05, momentum=0.1, affine=True, track_running_stats=True)\n",
              "        (relu): ReLU(inplace=True)\n",
              "        (conv2): Conv2d(512, 512, kernel_size=(3, 3), stride=(1, 1), padding=(1, 1), bias=False)\n",
              "        (bn2): BatchNorm2d(512, eps=1e-05, momentum=0.1, affine=True, track_running_stats=True)\n",
              "      )\n",
              "    )\n",
              "  )\n",
              "  (1): Sequential(\n",
              "    (0): AdaptiveConcatPool2d(\n",
              "      (ap): AdaptiveAvgPool2d(output_size=1)\n",
              "      (mp): AdaptiveMaxPool2d(output_size=1)\n",
              "    )\n",
              "    (1): fastai.layers.Flatten(full=False)\n",
              "    (2): BatchNorm1d(1024, eps=1e-05, momentum=0.1, affine=True, track_running_stats=True)\n",
              "    (3): Dropout(p=0.25, inplace=False)\n",
              "    (4): Linear(in_features=1024, out_features=512, bias=False)\n",
              "    (5): ReLU(inplace=True)\n",
              "    (6): BatchNorm1d(512, eps=1e-05, momentum=0.1, affine=True, track_running_stats=True)\n",
              "    (7): Dropout(p=0.5, inplace=False)\n",
              "    (8): Linear(in_features=512, out_features=10, bias=False)\n",
              "  )\n",
              ")"
            ]
          },
          "execution_count": 44,
          "metadata": {},
          "output_type": "execute_result"
        }
      ],
      "source": [
        "learn.to(device)"
      ]
    },
    {
      "cell_type": "code",
      "execution_count": null,
      "metadata": {
        "id": "cFtJq1pNo13B"
      },
      "outputs": [],
      "source": [
        "torch.backends.cuda.max_split_size_mb = 0"
      ]
    },
    {
      "cell_type": "markdown",
      "metadata": {
        "id": "jLFyl3mekTD6"
      },
      "source": [
        "##--------------------------------------------------------------------"
      ]
    },
    {
      "cell_type": "markdown",
      "metadata": {
        "id": "k6r1TGZeVWid"
      },
      "source": [
        "vh_mixup"
      ]
    },
    {
      "cell_type": "code",
      "execution_count": null,
      "metadata": {
        "colab": {
          "base_uri": "https://localhost:8080/",
          "height": 896
        },
        "id": "1e38WafAh4y8",
        "outputId": "701920b5-9826-4133-b236-4be7da707199"
      },
      "outputs": [
        {
          "data": {
            "text/html": [
              "\n",
              "<style>\n",
              "    /* Turns off some styling */\n",
              "    progress {\n",
              "        /* gets rid of default border in Firefox and Opera. */\n",
              "        border: none;\n",
              "        /* Needs to be in here for Safari polyfill so background images work as expected. */\n",
              "        background-size: auto;\n",
              "    }\n",
              "    progress:not([value]), progress:not([value])::-webkit-progress-bar {\n",
              "        background: repeating-linear-gradient(45deg, #7e7e7e, #7e7e7e 10px, #5c5c5c 10px, #5c5c5c 20px);\n",
              "    }\n",
              "    .progress-bar-interrupted, .progress-bar-interrupted::-webkit-progress-bar {\n",
              "        background: #F44336;\n",
              "    }\n",
              "</style>\n"
            ],
            "text/plain": [
              "<IPython.core.display.HTML object>"
            ]
          },
          "metadata": {},
          "output_type": "display_data"
        },
        {
          "data": {
            "text/html": [
              "<table border=\"1\" class=\"dataframe\">\n",
              "  <thead>\n",
              "    <tr style=\"text-align: left;\">\n",
              "      <th>epoch</th>\n",
              "      <th>train_loss</th>\n",
              "      <th>valid_loss</th>\n",
              "      <th>error_rate</th>\n",
              "      <th>time</th>\n",
              "    </tr>\n",
              "  </thead>\n",
              "  <tbody>\n",
              "    <tr>\n",
              "      <td>0</td>\n",
              "      <td>2.883459</td>\n",
              "      <td>1.270761</td>\n",
              "      <td>0.480000</td>\n",
              "      <td>00:11</td>\n",
              "    </tr>\n",
              "  </tbody>\n",
              "</table>"
            ],
            "text/plain": [
              "<IPython.core.display.HTML object>"
            ]
          },
          "metadata": {},
          "output_type": "display_data"
        },
        {
          "data": {
            "text/html": [
              "\n",
              "<style>\n",
              "    /* Turns off some styling */\n",
              "    progress {\n",
              "        /* gets rid of default border in Firefox and Opera. */\n",
              "        border: none;\n",
              "        /* Needs to be in here for Safari polyfill so background images work as expected. */\n",
              "        background-size: auto;\n",
              "    }\n",
              "    progress:not([value]), progress:not([value])::-webkit-progress-bar {\n",
              "        background: repeating-linear-gradient(45deg, #7e7e7e, #7e7e7e 10px, #5c5c5c 10px, #5c5c5c 20px);\n",
              "    }\n",
              "    .progress-bar-interrupted, .progress-bar-interrupted::-webkit-progress-bar {\n",
              "        background: #F44336;\n",
              "    }\n",
              "</style>\n"
            ],
            "text/plain": [
              "<IPython.core.display.HTML object>"
            ]
          },
          "metadata": {},
          "output_type": "display_data"
        },
        {
          "data": {
            "text/html": [
              "<table border=\"1\" class=\"dataframe\">\n",
              "  <thead>\n",
              "    <tr style=\"text-align: left;\">\n",
              "      <th>epoch</th>\n",
              "      <th>train_loss</th>\n",
              "      <th>valid_loss</th>\n",
              "      <th>error_rate</th>\n",
              "      <th>time</th>\n",
              "    </tr>\n",
              "  </thead>\n",
              "  <tbody>\n",
              "    <tr>\n",
              "      <td>0</td>\n",
              "      <td>1.641397</td>\n",
              "      <td>3.731674</td>\n",
              "      <td>0.640000</td>\n",
              "      <td>00:11</td>\n",
              "    </tr>\n",
              "    <tr>\n",
              "      <td>1</td>\n",
              "      <td>1.388181</td>\n",
              "      <td>20.203133</td>\n",
              "      <td>0.940000</td>\n",
              "      <td>00:11</td>\n",
              "    </tr>\n",
              "    <tr>\n",
              "      <td>2</td>\n",
              "      <td>1.297256</td>\n",
              "      <td>14.724870</td>\n",
              "      <td>0.800000</td>\n",
              "      <td>00:11</td>\n",
              "    </tr>\n",
              "    <tr>\n",
              "      <td>3</td>\n",
              "      <td>1.338488</td>\n",
              "      <td>45.394020</td>\n",
              "      <td>0.920000</td>\n",
              "      <td>00:11</td>\n",
              "    </tr>\n",
              "    <tr>\n",
              "      <td>4</td>\n",
              "      <td>1.268497</td>\n",
              "      <td>29.690475</td>\n",
              "      <td>0.920000</td>\n",
              "      <td>00:11</td>\n",
              "    </tr>\n",
              "    <tr>\n",
              "      <td>5</td>\n",
              "      <td>1.116846</td>\n",
              "      <td>24.466537</td>\n",
              "      <td>0.900000</td>\n",
              "      <td>00:11</td>\n",
              "    </tr>\n",
              "    <tr>\n",
              "      <td>6</td>\n",
              "      <td>1.079277</td>\n",
              "      <td>19.810070</td>\n",
              "      <td>0.920000</td>\n",
              "      <td>00:11</td>\n",
              "    </tr>\n",
              "    <tr>\n",
              "      <td>7</td>\n",
              "      <td>1.216525</td>\n",
              "      <td>21.738075</td>\n",
              "      <td>0.920000</td>\n",
              "      <td>00:11</td>\n",
              "    </tr>\n",
              "    <tr>\n",
              "      <td>8</td>\n",
              "      <td>1.142824</td>\n",
              "      <td>22.420521</td>\n",
              "      <td>0.920000</td>\n",
              "      <td>00:11</td>\n",
              "    </tr>\n",
              "    <tr>\n",
              "      <td>9</td>\n",
              "      <td>1.241124</td>\n",
              "      <td>44.697830</td>\n",
              "      <td>0.880000</td>\n",
              "      <td>00:11</td>\n",
              "    </tr>\n",
              "    <tr>\n",
              "      <td>10</td>\n",
              "      <td>1.272322</td>\n",
              "      <td>48.474087</td>\n",
              "      <td>0.840000</td>\n",
              "      <td>00:11</td>\n",
              "    </tr>\n",
              "    <tr>\n",
              "      <td>11</td>\n",
              "      <td>1.160270</td>\n",
              "      <td>25.920576</td>\n",
              "      <td>0.920000</td>\n",
              "      <td>00:12</td>\n",
              "    </tr>\n",
              "    <tr>\n",
              "      <td>12</td>\n",
              "      <td>0.959138</td>\n",
              "      <td>14.122185</td>\n",
              "      <td>0.860000</td>\n",
              "      <td>00:12</td>\n",
              "    </tr>\n",
              "    <tr>\n",
              "      <td>13</td>\n",
              "      <td>0.908966</td>\n",
              "      <td>56.661877</td>\n",
              "      <td>0.920000</td>\n",
              "      <td>00:11</td>\n",
              "    </tr>\n",
              "    <tr>\n",
              "      <td>14</td>\n",
              "      <td>0.824072</td>\n",
              "      <td>32.433609</td>\n",
              "      <td>0.900000</td>\n",
              "      <td>00:11</td>\n",
              "    </tr>\n",
              "    <tr>\n",
              "      <td>15</td>\n",
              "      <td>0.756195</td>\n",
              "      <td>2.778210</td>\n",
              "      <td>0.520000</td>\n",
              "      <td>00:11</td>\n",
              "    </tr>\n",
              "    <tr>\n",
              "      <td>16</td>\n",
              "      <td>0.687289</td>\n",
              "      <td>1.552408</td>\n",
              "      <td>0.480000</td>\n",
              "      <td>00:11</td>\n",
              "    </tr>\n",
              "    <tr>\n",
              "      <td>17</td>\n",
              "      <td>0.565512</td>\n",
              "      <td>5.943521</td>\n",
              "      <td>0.700000</td>\n",
              "      <td>00:12</td>\n",
              "    </tr>\n",
              "    <tr>\n",
              "      <td>18</td>\n",
              "      <td>0.496714</td>\n",
              "      <td>12.566179</td>\n",
              "      <td>0.740000</td>\n",
              "      <td>00:11</td>\n",
              "    </tr>\n",
              "    <tr>\n",
              "      <td>19</td>\n",
              "      <td>0.446531</td>\n",
              "      <td>2.091909</td>\n",
              "      <td>0.540000</td>\n",
              "      <td>00:11</td>\n",
              "    </tr>\n",
              "    <tr>\n",
              "      <td>20</td>\n",
              "      <td>0.498994</td>\n",
              "      <td>1.215948</td>\n",
              "      <td>0.380000</td>\n",
              "      <td>00:11</td>\n",
              "    </tr>\n",
              "    <tr>\n",
              "      <td>21</td>\n",
              "      <td>0.348830</td>\n",
              "      <td>0.618013</td>\n",
              "      <td>0.240000</td>\n",
              "      <td>00:11</td>\n",
              "    </tr>\n",
              "    <tr>\n",
              "      <td>22</td>\n",
              "      <td>0.371001</td>\n",
              "      <td>1.066741</td>\n",
              "      <td>0.280000</td>\n",
              "      <td>00:11</td>\n",
              "    </tr>\n",
              "    <tr>\n",
              "      <td>23</td>\n",
              "      <td>0.353290</td>\n",
              "      <td>1.008328</td>\n",
              "      <td>0.320000</td>\n",
              "      <td>00:12</td>\n",
              "    </tr>\n",
              "    <tr>\n",
              "      <td>24</td>\n",
              "      <td>0.379764</td>\n",
              "      <td>0.392558</td>\n",
              "      <td>0.100000</td>\n",
              "      <td>00:12</td>\n",
              "    </tr>\n",
              "  </tbody>\n",
              "</table>"
            ],
            "text/plain": [
              "<IPython.core.display.HTML object>"
            ]
          },
          "metadata": {},
          "output_type": "display_data"
        }
      ],
      "source": [
        "learn.fine_tune(25)  # train the model for 10 epochs"
      ]
    },
    {
      "cell_type": "code",
      "execution_count": null,
      "metadata": {
        "colab": {
          "base_uri": "https://localhost:8080/",
          "height": 430
        },
        "id": "EQZdEo_bi1VF",
        "outputId": "bf2ad1cb-5e16-4733-93b7-c4976384f8a4"
      },
      "outputs": [
        {
          "data": {
            "image/png": "[encoded data removed]",
            "text/plain": [
              "<Figure size 640x480 with 1 Axes>"
            ]
          },
          "metadata": {},
          "output_type": "display_data"
        }
      ],
      "source": [
        "# plot losses\n",
        "learn.recorder.plot_loss()"
      ]
    },
    {
      "cell_type": "code",
      "execution_count": null,
      "metadata": {
        "id": "TgtvmKmFiZRG"
      },
      "outputs": [],
      "source": [
        "# learn.recorder.plot_metric()"
      ]
    },
    {
      "cell_type": "code",
      "execution_count": null,
      "metadata": {
        "colab": {
          "base_uri": "https://localhost:8080/"
        },
        "id": "AdGrsBPbWfv1",
        "outputId": "2a521635-b86c-4752-980c-60aa293d0c50"
      },
      "outputs": [
        {
          "data": {
            "text/plain": [
              "Path('/content/drive/My Drive/DL_project_music/Data/MELspectrograms/models/stage1.pth')"
            ]
          },
          "execution_count": 49,
          "metadata": {},
          "output_type": "execute_result"
        }
      ],
      "source": [
        "learn.save('stage1')"
      ]
    },
    {
      "cell_type": "code",
      "execution_count": null,
      "metadata": {
        "id": "v2TsarO-WgYP"
      },
      "outputs": [],
      "source": [
        "learn.unfreeze()"
      ]
    },
    {
      "cell_type": "code",
      "execution_count": null,
      "metadata": {},
      "outputs": [],
      "source": [
        "learn.lr_find()\n",
        "# learn.recorder.plot_lr()\n",
        "learn.recorder.plot_losses()"
      ]
    },
    {
      "cell_type": "code",
      "execution_count": null,
      "metadata": {
        "id": "oVGT6huljh9V"
      },
      "outputs": [],
      "source": [
        "# Get validation accuracy\n",
        "val_accuracy = learn.validate(dl=data.valid)[1]\n",
        "print(\"Validation accuracy: \", val_accuracy)\n",
        "\n",
        "# Get train accuracy\n",
        "train_accuracy = learn.validate(dl=data.train)[1]\n",
        "print(\"Train accuracy: \", train_accuracy)\n"
      ]
    },
    {
      "cell_type": "code",
      "execution_count": null,
      "metadata": {
        "id": "VAJGV_omiRaq"
      },
      "outputs": [],
      "source": [
        "test_loss, test_accuracy = learn.validate()\n",
        "print('Test Loss:', test_loss)\n",
        "print('Test Accuracy:', test_accuracy)\n"
      ]
    },
    {
      "cell_type": "code",
      "execution_count": null,
      "metadata": {
        "colab": {
          "base_uri": "https://localhost:8080/"
        },
        "id": "sUz6bC0ujs4-",
        "outputId": "0c617296-338b-496e-a056-9f01764742f3"
      },
      "outputs": [
        {
          "name": "stdout",
          "output_type": "stream",
          "text": [
            "Number of classes: 10\n"
          ]
        }
      ],
      "source": [
        "num_classes = len(data.vocab)\n",
        "print(f\"Number of classes: {num_classes}\")\n"
      ]
    },
    {
      "cell_type": "code",
      "execution_count": null,
      "metadata": {
        "colab": {
          "base_uri": "https://localhost:8080/",
          "height": 34
        },
        "id": "IYh-Uowv302E",
        "outputId": "e4f58224-b9b1-4caa-bc4f-d8ef793426e3"
      },
      "outputs": [
        {
          "data": {
            "text/html": [
              "\n",
              "<style>\n",
              "    /* Turns off some styling */\n",
              "    progress {\n",
              "        /* gets rid of default border in Firefox and Opera. */\n",
              "        border: none;\n",
              "        /* Needs to be in here for Safari polyfill so background images work as expected. */\n",
              "        background-size: auto;\n",
              "    }\n",
              "    progress:not([value]), progress:not([value])::-webkit-progress-bar {\n",
              "        background: repeating-linear-gradient(45deg, #7e7e7e, #7e7e7e 10px, #5c5c5c 10px, #5c5c5c 20px);\n",
              "    }\n",
              "    .progress-bar-interrupted, .progress-bar-interrupted::-webkit-progress-bar {\n",
              "        background: #F44336;\n",
              "    }\n",
              "</style>\n"
            ],
            "text/plain": [
              "<IPython.core.display.HTML object>"
            ]
          },
          "metadata": {},
          "output_type": "display_data"
        },
        {
          "data": {
            "text/html": [],
            "text/plain": [
              "<IPython.core.display.HTML object>"
            ]
          },
          "metadata": {},
          "output_type": "display_data"
        },
        {
          "data": {
            "text/plain": [
              "True"
            ]
          },
          "execution_count": 56,
          "metadata": {},
          "output_type": "execute_result"
        }
      ],
      "source": [
        "interp=ClassificationInterpretation.from_learner(learn)\n",
        "losses,idxs=interp.top_losses()\n",
        "len(data.valid_ds)==len(losses)==len(idxs)"
      ]
    },
    {
      "cell_type": "code",
      "execution_count": null,
      "metadata": {
        "colab": {
          "base_uri": "https://localhost:8080/",
          "height": 743
        },
        "id": "e7ntQW6v302F",
        "outputId": "7e0a2886-4859-431a-80d7-10c9ebfb6d2b"
      },
      "outputs": [
        {
          "data": {
            "text/html": [
              "\n",
              "<style>\n",
              "    /* Turns off some styling */\n",
              "    progress {\n",
              "        /* gets rid of default border in Firefox and Opera. */\n",
              "        border: none;\n",
              "        /* Needs to be in here for Safari polyfill so background images work as expected. */\n",
              "        background-size: auto;\n",
              "    }\n",
              "    progress:not([value]), progress:not([value])::-webkit-progress-bar {\n",
              "        background: repeating-linear-gradient(45deg, #7e7e7e, #7e7e7e 10px, #5c5c5c 10px, #5c5c5c 20px);\n",
              "    }\n",
              "    .progress-bar-interrupted, .progress-bar-interrupted::-webkit-progress-bar {\n",
              "        background: #F44336;\n",
              "    }\n",
              "</style>\n"
            ],
            "text/plain": [
              "<IPython.core.display.HTML object>"
            ]
          },
          "metadata": {},
          "output_type": "display_data"
        },
        {
          "data": {
            "text/html": [],
            "text/plain": [
              "<IPython.core.display.HTML object>"
            ]
          },
          "metadata": {},
          "output_type": "display_data"
        },
        {
          "data": {
            "image/png": "[encoded data removed]",
            "text/plain": [
              "<Figure size 720x720 with 1 Axes>"
            ]
          },
          "metadata": {},
          "output_type": "display_data"
        }
      ],
      "source": [
        "interp.plot_confusion_matrix(figsize=(12,12),dpi=60)"
      ]
    },
    {
      "cell_type": "markdown",
      "metadata": {
        "id": "KKWfv3_PkP2U"
      },
      "source": [
        "##--------------------------------------------"
      ]
    },
    {
      "cell_type": "markdown",
      "metadata": {
        "id": "DlNfBI_lV2dx"
      },
      "source": [
        "learning rate=1e-3"
      ]
    },
    {
      "cell_type": "code",
      "execution_count": null,
      "metadata": {
        "id": "ZAeroRRLV7fa"
      },
      "outputs": [],
      "source": [
        "lr=1e-03\n"
      ]
    },
    {
      "cell_type": "code",
      "execution_count": null,
      "metadata": {
        "id": "K5wWQ9PUWnsy"
      },
      "outputs": [],
      "source": [
        "learn.fit_one_cycle(4,slice(lr))"
      ]
    },
    {
      "cell_type": "code",
      "execution_count": null,
      "metadata": {
        "id": "vjjDfXksWx87"
      },
      "outputs": [],
      "source": [
        "learn.recorder.plot_loss()"
      ]
    },
    {
      "cell_type": "code",
      "execution_count": null,
      "metadata": {
        "id": "5mdHRJ_gXYuL"
      },
      "outputs": [],
      "source": [
        "lr=1e-04\n",
        "learn.fit_one_cycle(4,slice(lr))"
      ]
    },
    {
      "cell_type": "code",
      "execution_count": null,
      "metadata": {
        "id": "007Uav3yXkG6"
      },
      "outputs": [],
      "source": [
        "learn.lr_find()\n",
        "learn.recorder.plot()"
      ]
    },
    {
      "cell_type": "code",
      "execution_count": null,
      "metadata": {
        "id": "Rr3lU7c3YJRu"
      },
      "outputs": [],
      "source": [
        "lr=1e-03\n",
        "learn.fit_one_cycle(8,slice(lr))"
      ]
    },
    {
      "cell_type": "code",
      "execution_count": null,
      "metadata": {
        "id": "l5_5ffLFZVAE"
      },
      "outputs": [],
      "source": [
        "learn.save('stage2')"
      ]
    },
    {
      "cell_type": "code",
      "execution_count": null,
      "metadata": {
        "id": "hcuu3RWyaM-z"
      },
      "outputs": [],
      "source": [
        "learn.recorder.plot()"
      ]
    },
    {
      "cell_type": "code",
      "execution_count": null,
      "metadata": {
        "id": "Zr_IbhXRaSSx"
      },
      "outputs": [],
      "source": [
        "lr=lr/1000\n",
        "learn.fit_one_cycle(2,slice(lr))"
      ]
    },
    {
      "cell_type": "code",
      "execution_count": null,
      "metadata": {
        "id": "PBD2zXCQaZPK"
      },
      "outputs": [],
      "source": [
        "learn.save('stage3')"
      ]
    },
    {
      "cell_type": "code",
      "execution_count": null,
      "metadata": {
        "id": "IiDwVRV3a2nt"
      },
      "outputs": [],
      "source": [
        "learn.fit_one_cycle(2,slice(lr))"
      ]
    },
    {
      "cell_type": "code",
      "execution_count": null,
      "metadata": {
        "id": "pdt-ffrfltDA"
      },
      "outputs": [],
      "source": [
        "learn.fit_one_cycle(4,slice(3.5e-07))"
      ]
    },
    {
      "cell_type": "code",
      "execution_count": null,
      "metadata": {
        "id": "hShGNstQmbiE"
      },
      "outputs": [],
      "source": [
        "learn.fit_one_cycle(6,slice(3.5e-10))"
      ]
    },
    {
      "cell_type": "code",
      "execution_count": null,
      "metadata": {
        "id": "GrlfcyoMvT1w"
      },
      "outputs": [],
      "source": [
        "interp=ClassificationInterpretation.from_learner(learn)\n",
        "losses,idxs=interp.top_losses()\n",
        "len(data.valid_ds)==len(losses)==len(idxs)"
      ]
    },
    {
      "cell_type": "code",
      "execution_count": null,
      "metadata": {
        "id": "PrTlZ7lovUyC"
      },
      "outputs": [],
      "source": [
        "interp.plot_confusion_matrix(figsize=(12,12),dpi=60)"
      ]
    },
    {
      "cell_type": "markdown",
      "metadata": {
        "id": "LuXFe4s8bVUj"
      },
      "source": [
        "## Now testing with Resnet 50"
      ]
    },
    {
      "cell_type": "code",
      "execution_count": null,
      "metadata": {
        "id": "rlCvKy2na4_d"
      },
      "outputs": [],
      "source": [
        "# learn1=create_cnn(data,models.resnet50,metrics=error_rate)\n",
        "learn1 = cnn_learner(data, models.resnet18, metrics=error_rate)\n"
      ]
    },
    {
      "cell_type": "code",
      "execution_count": null,
      "metadata": {
        "id": "o6_q35R-b7En"
      },
      "outputs": [],
      "source": [
        "learn1.fit_one_cycle(2)"
      ]
    },
    {
      "cell_type": "code",
      "execution_count": null,
      "metadata": {
        "id": "o7pso5a5b_KB"
      },
      "outputs": [],
      "source": [
        "lr_find(learn1)\n",
        "learn1.recorder.plot()"
      ]
    },
    {
      "cell_type": "code",
      "execution_count": null,
      "metadata": {
        "id": "VqSB4mPccoHB"
      },
      "outputs": [],
      "source": [
        "lr=2e-03\n",
        "learn1.fit_one_cycle(6,slice(lr))"
      ]
    },
    {
      "cell_type": "code",
      "execution_count": null,
      "metadata": {
        "id": "det8wyUXdgAF"
      },
      "outputs": [],
      "source": [
        "learn1.recorder.plot()"
      ]
    },
    {
      "cell_type": "code",
      "execution_count": null,
      "metadata": {
        "id": "MsSEkkiEeLIz"
      },
      "outputs": [],
      "source": [
        "learn1.save('50-stage1')"
      ]
    },
    {
      "cell_type": "code",
      "execution_count": null,
      "metadata": {
        "id": "q1_YdExgeYEP"
      },
      "outputs": [],
      "source": [
        "lr=0.9e-04\n",
        "learn1.fit_one_cycle(7,slice(lr))"
      ]
    },
    {
      "cell_type": "code",
      "execution_count": null,
      "metadata": {
        "id": "dqfzQ1-OeayY"
      },
      "outputs": [],
      "source": [
        "learn1.recorder.plot()"
      ]
    },
    {
      "cell_type": "code",
      "execution_count": null,
      "metadata": {
        "id": "JuWqUmK1fohs"
      },
      "outputs": [],
      "source": [
        "learn1.fit_one_cycle(6,slice(2e-05))"
      ]
    },
    {
      "cell_type": "code",
      "execution_count": null,
      "metadata": {
        "id": "sf1x58Gcf2SE"
      },
      "outputs": [],
      "source": [
        "learn1.recorder.plot()"
      ]
    },
    {
      "cell_type": "code",
      "execution_count": null,
      "metadata": {
        "id": "O1v4BETkhyGN"
      },
      "outputs": [],
      "source": [
        "learn1.unfreeze()\n"
      ]
    },
    {
      "cell_type": "code",
      "execution_count": null,
      "metadata": {
        "id": "iHnYGZ0Ah5BN"
      },
      "outputs": [],
      "source": [
        "lr_find(learn1)\n",
        "learn1.recorder.plot()"
      ]
    },
    {
      "cell_type": "code",
      "execution_count": null,
      "metadata": {
        "id": "VYVa60ciiwCi"
      },
      "outputs": [],
      "source": [
        "lr=1e-03\n",
        "learn1.fit_one_cycle(7,slice(lr))"
      ]
    },
    {
      "cell_type": "code",
      "execution_count": null,
      "metadata": {
        "id": "h5po4Zlujpn2"
      },
      "outputs": [],
      "source": [
        "learn1.save('50-stage2')"
      ]
    },
    {
      "cell_type": "code",
      "execution_count": null,
      "metadata": {
        "id": "Bz6XfhhBjx8X"
      },
      "outputs": [],
      "source": [
        "learn1.recorder.plot()"
      ]
    },
    {
      "cell_type": "code",
      "execution_count": null,
      "metadata": {
        "id": "5lGxolNVj5qo"
      },
      "outputs": [],
      "source": [
        "lr=lr/1000\n",
        "learn1.fit_one_cycle(5,slice(lr))"
      ]
    },
    {
      "cell_type": "code",
      "execution_count": null,
      "metadata": {
        "id": "3sgVUqvCklse"
      },
      "outputs": [],
      "source": [
        "learn1.save('50-stage2')"
      ]
    },
    {
      "cell_type": "code",
      "execution_count": null,
      "metadata": {
        "id": "wZrhbC_Qkuk5"
      },
      "outputs": [],
      "source": [
        "learn1.unfreeze()\n",
        "learn1.recorder.plot()"
      ]
    },
    {
      "cell_type": "code",
      "execution_count": null,
      "metadata": {
        "id": "WGHwxN0pk6sy"
      },
      "outputs": [],
      "source": [
        "learn1.fit_one_cycle(4)"
      ]
    },
    {
      "cell_type": "code",
      "execution_count": null,
      "metadata": {
        "id": "ropm4Z5lnOfg"
      },
      "outputs": [],
      "source": [
        "learn1.save('50-stage3')"
      ]
    },
    {
      "cell_type": "code",
      "execution_count": null,
      "metadata": {
        "id": "VShj1MVXvy8q"
      },
      "outputs": [],
      "source": [
        "interp=ClassificationInterpretation.from_learner(learn1)\n",
        "losses,idxs=interp.top_losses()\n",
        "len(data.valid_ds)==len(losses)==len(idxs)"
      ]
    },
    {
      "cell_type": "code",
      "execution_count": null,
      "metadata": {
        "id": "OFX0EQ2Zv2SN"
      },
      "outputs": [],
      "source": [
        "interp.plot_confusion_matrix(figsize=(12,12),dpi=60)"
      ]
    },
    {
      "cell_type": "markdown",
      "metadata": {
        "id": "Ayv3JVT8g2on"
      },
      "source": [
        "I regret to inform you, if we fit more,it will overfit and regularize, so unfortunately bye bye Resnet 50, you weren't helpful at all"
      ]
    },
    {
      "cell_type": "markdown",
      "metadata": {
        "id": "8yAA-d3zlkFY"
      },
      "source": [
        "## Recorded Performances till now:\n",
        "**Resnet34**: 79%\n",
        "**Resnet50**: 75.9%"
      ]
    },
    {
      "cell_type": "markdown",
      "metadata": {
        "id": "kkHJnVbkhTM8"
      },
      "source": [
        "I will try AlexNet once, lets see"
      ]
    },
    {
      "cell_type": "code",
      "execution_count": null,
      "metadata": {
        "id": "ZDJDVQv6g06M"
      },
      "outputs": [],
      "source": [
        "learn2=create_cnn(data,models.alexnet,metrics=error_rate)"
      ]
    },
    {
      "cell_type": "code",
      "execution_count": null,
      "metadata": {
        "id": "_-4PZre_nuCA"
      },
      "outputs": [],
      "source": [
        "learn2.fit_one_cycle(4)"
      ]
    },
    {
      "cell_type": "code",
      "execution_count": null,
      "metadata": {
        "id": "Oa-VoAkNnxKE"
      },
      "outputs": [],
      "source": [
        "learn2.unfreeze()"
      ]
    },
    {
      "cell_type": "code",
      "execution_count": null,
      "metadata": {
        "id": "yq7HkdQ5oLLl"
      },
      "outputs": [],
      "source": [
        "lr_find(learn2)\n",
        "learn2.recorder.plot()"
      ]
    },
    {
      "cell_type": "code",
      "execution_count": null,
      "metadata": {
        "id": "bFwreOsyoQIk"
      },
      "outputs": [],
      "source": [
        "lr=1e-03\n",
        "learn2.fit_one_cycle(7,slice(lr))"
      ]
    },
    {
      "cell_type": "code",
      "execution_count": null,
      "metadata": {
        "id": "eL15LqdLpB6b"
      },
      "outputs": [],
      "source": [
        "lr=lr/1000\n",
        "learn2.fit_one_cycle(5,slice(lr))"
      ]
    },
    {
      "cell_type": "code",
      "execution_count": null,
      "metadata": {
        "id": "axKMOEjDpyq-"
      },
      "outputs": [],
      "source": [
        "learn2.unfreeze()\n",
        "lr_find(learn2)\n",
        "learn2.recorder.plot()"
      ]
    },
    {
      "cell_type": "code",
      "execution_count": null,
      "metadata": {
        "id": "FN5NfTLsqU7a"
      },
      "outputs": [],
      "source": [
        "learn2.save('alex-stage1')"
      ]
    },
    {
      "cell_type": "code",
      "execution_count": null,
      "metadata": {
        "id": "2ya9uPBKrC2g"
      },
      "outputs": [],
      "source": [
        "learn2.fit_one_cycle(7,slice(1e-03))"
      ]
    },
    {
      "cell_type": "code",
      "execution_count": null,
      "metadata": {
        "id": "byPr_9NYrOpl"
      },
      "outputs": [],
      "source": [
        "learn2.save('alex-stage2')"
      ]
    },
    {
      "cell_type": "code",
      "execution_count": null,
      "metadata": {
        "id": "KeCzoBuVr6sT"
      },
      "outputs": [],
      "source": [
        "learn2.unfreeze()\n",
        "lr_find(learn2)\n",
        "learn2.recorder.plot()\n"
      ]
    },
    {
      "cell_type": "code",
      "execution_count": null,
      "metadata": {
        "id": "Ik3p2rq6sDlP"
      },
      "outputs": [],
      "source": [
        "learn2.fit_one_cycle(6,slice(2e-05))"
      ]
    },
    {
      "cell_type": "code",
      "execution_count": null,
      "metadata": {
        "id": "mfVK3oezs0Pd"
      },
      "outputs": [],
      "source": [
        "learn2.recorder.plot()"
      ]
    },
    {
      "cell_type": "code",
      "execution_count": null,
      "metadata": {
        "id": "UIkMivbytcP0"
      },
      "outputs": [],
      "source": [
        "learn2.fit_one_cycle(7,slice(3e-06))"
      ]
    },
    {
      "cell_type": "markdown",
      "metadata": {
        "id": "QCI2V_0QgVlO"
      },
      "source": [
        "##Using VGG16 to compare with that paper results"
      ]
    },
    {
      "cell_type": "code",
      "execution_count": null,
      "metadata": {
        "id": "X4gcgU8jgUsP"
      },
      "outputs": [],
      "source": [
        "learn3=create_cnn(data,models.vgg16_bn,metrics=error_rate)"
      ]
    },
    {
      "cell_type": "code",
      "execution_count": null,
      "metadata": {
        "id": "A3rpmr-Wtval"
      },
      "outputs": [],
      "source": [
        "learn3.fit_one_cycle(4)"
      ]
    },
    {
      "cell_type": "code",
      "execution_count": null,
      "metadata": {
        "id": "8kdwD4Oog70h"
      },
      "outputs": [],
      "source": [
        "learn3.unfreeze()"
      ]
    },
    {
      "cell_type": "code",
      "execution_count": null,
      "metadata": {
        "id": "emTVztPAh0PM"
      },
      "outputs": [],
      "source": [
        "lr_find(learn3)\n",
        "learn3.recorder.plot()"
      ]
    },
    {
      "cell_type": "code",
      "execution_count": null,
      "metadata": {
        "id": "JgrcXwREh44f"
      },
      "outputs": [],
      "source": [
        "lr=3e-03\n",
        "learn3.unfreeze()\n",
        "learn3.fit_one_cycle(7,slice(lr))"
      ]
    },
    {
      "cell_type": "code",
      "execution_count": null,
      "metadata": {
        "id": "dGYAGqB_jGbt"
      },
      "outputs": [],
      "source": [
        "learn3.unfreeze()\n",
        "lr_find(learn3)\n",
        "learn3.recorder.plot()"
      ]
    },
    {
      "cell_type": "code",
      "execution_count": null,
      "metadata": {
        "id": "Iez0swBfkYg-"
      },
      "outputs": [],
      "source": [
        "learn3.save('vgg16-1')"
      ]
    },
    {
      "cell_type": "code",
      "execution_count": null,
      "metadata": {
        "id": "TEql8n7Zk3So"
      },
      "outputs": [],
      "source": [
        "lr=1e-03\n",
        "learn3.unfreeze()\n",
        "learn3.fit_one_cycle(5,slice(lr))"
      ]
    },
    {
      "cell_type": "code",
      "execution_count": null,
      "metadata": {
        "id": "tPBNBGaolkUh"
      },
      "outputs": [],
      "source": [
        "learn3.save('vgg16-2')"
      ]
    },
    {
      "cell_type": "code",
      "execution_count": null,
      "metadata": {
        "id": "WfAPdWaLntBU"
      },
      "outputs": [],
      "source": [
        "learn3.recorder.plot()"
      ]
    },
    {
      "cell_type": "code",
      "execution_count": null,
      "metadata": {
        "id": "o-Vw1i9En6-F"
      },
      "outputs": [],
      "source": [
        "learn3.unfreeze()\n",
        "lr_find(learn3)\n",
        "learn3.recorder.plot()"
      ]
    },
    {
      "cell_type": "code",
      "execution_count": null,
      "metadata": {
        "id": "JXOZ5LxxoCNQ"
      },
      "outputs": [],
      "source": [
        "learn3.unfreeze()\n",
        "learn3.fit_one_cycle(4,slice(1e-05))"
      ]
    },
    {
      "cell_type": "code",
      "execution_count": null,
      "metadata": {
        "id": "bOvX0vQMqaBU"
      },
      "outputs": [],
      "source": [
        "interp=ClassificationInterpretation.from_learner(learn3)\n",
        "losses,idxs=interp.top_losses()\n",
        "len(data.valid_ds)==len(losses)==len(idxs)"
      ]
    },
    {
      "cell_type": "code",
      "execution_count": null,
      "metadata": {
        "id": "R8gP0slHqi16"
      },
      "outputs": [],
      "source": [
        "interp.plot_confusion_matrix(figsize=(12,12),dpi=60)"
      ]
    },
    {
      "cell_type": "markdown",
      "metadata": {
        "id": "zidE_OiNpbSf"
      },
      "source": [
        "**Since it starts to overfit, we draw the line at VGG Stage 2**"
      ]
    }
  ],
  "metadata": {
    "accelerator": "GPU",
    "colab": {
      "collapsed_sections": [
        "LuXFe4s8bVUj",
        "8yAA-d3zlkFY",
        "QCI2V_0QgVlO"
      ],
      "provenance": []
    },
    "gpuClass": "standard",
    "kernelspec": {
      "display_name": "Python 3",
      "name": "python3"
    },
    "language_info": {
      "name": "python"
    }
  },
  "nbformat": 4,
  "nbformat_minor": 0
}
